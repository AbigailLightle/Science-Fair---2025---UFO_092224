{
 "cells": [
  {
   "cell_type": "markdown",
   "metadata": {},
   "source": [
    "[Kaggle UFO Datasets](https://www.kaggle.com/datasets?search=UFO)\n",
    "\n",
    "[UFO Sightings (Approx. 90,000)](https://www.kaggle.com/datasets/rishidamarla/ufo-sightings-approx-100000)\n",
    "\n",
    "[Predicting Aliens' Preferred UFO Shapes Using ML](https://www.kaggle.com/code/fischettijw/predicting-aliens-preferred-ufo-shapes-using-ml/edit)\n",
    "\n",
    "[National UFO Reporting Center, Davenport, WA](https://nuforc.org/)\n",
    "\n",
    "[The Early Years of NUFORC](https://nuforc.org/gribble/)\n",
    "\n",
    "[3D World Map - UFO Sightings  (National UFO Reporting Center, Davenport, WA)](https://nuforc.org/map/)\n",
    "\n",
    "[2019 Census US Population Data By State](https://www.kaggle.com/datasets/peretzcohen/2019-census-us-population-data-by-state)\n",
    "\n",
    "[Locational Geospatial Dataset](https://www.kaggle.com/datasets/armanmanteghi/locational-geospatial-dataset?select=geographic_locations.csv)\n",
    "\n",
    "[Project Blue Book - Wikipedia](https://en.wikipedia.org/wiki/Project_Blue_Book)\n",
    "\n",
    "[Project Blue Book, complete status reports - PDF (707 pages)](Project_Blue_Book,_complete_status_reports.pdf)\n",
    "\n",
    "[Military Records Research > Air Force Records > Project BLUE BOOK - Unidentified Flying Objects](https://www.archives.gov/research/military/air-force/ufos#usafac)\n",
    "\n",
    "[America's UFO hotspots, mapped](https://www.axios.com/2024/02/08/ufo-uap-sightings-us-hotspots-2000-2023)\n",
    "\n",
    "[Generating WordClouds in Python Tutorial](https://www.datacamp.com/tutorial/wordcloud-python)\n",
    "\n",
    "[Create Fancy Word Clouds in Python](https://www.youtube.com/watch?v=vRbSnlRyJNQ)\n",
    "\n",
    "[Natural Language Processing With Python and NLTK](https://www.youtube.com/watch?v=FLZvOKSCkxY&list=PLQVvvaa0QuDf2JswnfiGkliBInZnIC4HL)\n",
    "\n",
    "[Unidentified Flying Objects and Air Force Project Blue Book](https://www.af.mil/About-Us/Fact-Sheets/Display/Article/104590/unidentified-flying-objects-and-air-force-project-blue-book/)\n",
    "\n",
    "[The Most Famous UFO Story: Roswell](https://www.dummies.com/article/academics-the-arts/history/conspiracy-theories/the-most-famous-ufo-story-roswell-294100/)\n",
    "\n",
    "[Wikipedia: The Roswell Incident](https://en.wikipedia.org/wiki/Roswell_incident)\n",
    "\n",
    "[6 Things Witnesses Said About the Roswell Incident](https://www.travelchannel.com/shows/roswell-the-final-verdict/articles/6-things-witnesses-said-about-roswell)\n",
    "\n",
    "[Thomas Jefferson - Early UFO Sighting (April, 1800)](https://penelope.uchicago.edu/Thayer/E/Journals/TAPS/6/Baton_Rouge_Phenomenon*.html#note:Jefferson)\n",
    "\n",
    "[Thomas Jefferson - Early UFO Sighting (July 25, 1813)](https://www.monticello.org/research-education/for-scholars/papers-of-thomas-jefferson/featured-letters/an-atmospheric-phenomenon/)\n",
    "\n",
    "[Which Presidents Have Seen UFOs? Yep, It’s More Than One](https://www.politico.com/news/magazine/2023/11/17/us-presidents-ufo-obsession-00127519)\n",
    "\n",
    "[Creating Geospatial Heatmaps With Plotly Express](https://www.youtube.com/watch?v=vSGWmZre31A)\n",
    "\n",
    "[Learn Plotly - 8 videos](https://www.youtube.com/watch?v=j0wvKWb337A&list=PLE50-dh6JzC4onX-qkv9H3HtPbBVA8M94)\n",
    "\n",
    "[Plotly Tutorial 2023 (Derek Banas) - 01:22:51](https://www.youtube.com/watch?v=GGL6U0k8WYA&t=25s)"
   ]
  }
 ],
 "metadata": {
  "language_info": {
   "name": "python"
  }
 },
 "nbformat": 4,
 "nbformat_minor": 2
}
